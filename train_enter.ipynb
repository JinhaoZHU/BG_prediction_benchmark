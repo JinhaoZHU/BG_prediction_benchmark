{
 "cells": [
  {
   "cell_type": "code",
   "execution_count": null,
   "metadata": {
    "collapsed": true
   },
   "outputs": [],
   "source": [
    "from DeepModels import *"
   ]
  },
  {
   "cell_type": "markdown",
   "source": [
    "### One Step train\n",
    "train model for each prediction horizon."
   ],
   "metadata": {
    "collapsed": false,
    "pycharm": {
     "name": "#%% md\n"
    }
   }
  },
  {
   "cell_type": "code",
   "execution_count": null,
   "outputs": [],
   "source": [
    "one_step_train('ShanghaiT1DM', 'GRU', [1, 2, 3, 4], 15, is_train=True, epoch=1000, history_minutes=60, use_meal=False,\n",
    "                   normalize=0, use_insulin=False)"
   ],
   "metadata": {
    "collapsed": false,
    "pycharm": {
     "name": "#%%\n"
    }
   }
  },
  {
   "cell_type": "markdown",
   "source": [
    "### Recursive prediction"
   ],
   "metadata": {
    "collapsed": false,
    "pycharm": {
     "name": "#%% md\n"
    }
   }
  },
  {
   "cell_type": "code",
   "execution_count": null,
   "outputs": [],
   "source": [
    "recurrent_step_train(\"hospital_data\", \"GRU\", epoch=1000)\n",
    "recurrent_step_train(\"simulator_data\", \"GRU\", epoch=1000)\n",
    "recurrent_step_train(\"ohio_data\", \"GRU\", epoch=1000)"
   ],
   "metadata": {
    "collapsed": false,
    "pycharm": {
     "name": "#%%\n"
    }
   }
  },
  {
   "cell_type": "markdown",
   "source": [
    "### 多输出预测"
   ],
   "metadata": {
    "collapsed": false,
    "pycharm": {
     "name": "#%% md\n"
    }
   }
  },
  {
   "cell_type": "code",
   "execution_count": null,
   "outputs": [],
   "source": [
    "# 对多输出预测进行建模\n",
    "multi_step_train(\"simulator_data\", 'GRU', epoch=1000, is_train=True,history_minutes=60,use_meal=False,normalize=0,use_insulin=False)\n",
    "multi_step_train(\"ohio_data\", 'GRU', epoch=1000, is_train=True,history_minutes=60,use_meal=False,normalize=0,use_insulin=False)\n",
    "multi_step_train(\"hospital_data\", 'GRU', epoch=1000, is_train=True,history_minutes=60,use_meal=False,normalize=0,use_insulin=False)"
   ],
   "metadata": {
    "collapsed": false,
    "pycharm": {
     "name": "#%%\n"
    }
   }
  }
 ],
 "metadata": {
  "language_info": {
   "codemirror_mode": {
    "name": "ipython",
    "version": 2
   },
   "file_extension": ".py",
   "mimetype": "text/x-python",
   "name": "python",
   "nbconvert_exporter": "python",
   "pygments_lexer": "ipython2",
   "version": "2.7.6"
  },
  "kernelspec": {
   "name": "python3",
   "language": "python",
   "display_name": "Python 3"
  },
  "pycharm": {
   "stem_cell": {
    "cell_type": "raw",
    "source": [],
    "metadata": {
     "collapsed": false
    }
   }
  }
 },
 "nbformat": 4,
 "nbformat_minor": 0
}